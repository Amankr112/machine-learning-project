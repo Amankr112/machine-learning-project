{
 "cells": [
  {
   "cell_type": "markdown",
   "id": "2a27cdc5",
   "metadata": {},
   "source": [
    "## Maternal Health Risk using machine learning:\n"
   ]
  },
  {
   "cell_type": "markdown",
   "id": "8154b457",
   "metadata": {},
   "source": [
    "#### maternal health risk assessment using machine learning involves the development of predictive models that leverage patient data to identify and manage risks associated with pregnancy and childbirth. These models have the potential to enhance maternal healthcare by enabling early interventions and improving overall outcomes for both mothers and infants."
   ]
  },
  {
   "cell_type": "markdown",
   "id": "98aceec7",
   "metadata": {},
   "source": [
    " #### The primary objective is to use machine learning to improve the quality of care provided to expectant mothers, reduce maternal mortality and morbidity rates, and enhance the overall experience and outcomes of pregnancy and childbirth. It's crucial to ensure that the model is developed and deployed with a focus on patient privacy, ethics, and adherence to healthcare regulations.\n",
    "\n",
    "\n",
    "\n",
    "\n"
   ]
  },
  {
   "cell_type": "markdown",
   "id": "473931d2",
   "metadata": {},
   "source": [
    "#### Dataset in this model is all about the ages with their systolicBP,DiastolicBP,BS,BodyTemp,Heart rate,Risk level. "
   ]
  },
  {
   "cell_type": "code",
   "execution_count": 1,
   "id": "0f97a6c1",
   "metadata": {},
   "outputs": [],
   "source": [
    "import pandas as pd\n",
    "import seaborn as sns\n",
    "import numpy as np\n",
    "from sklearn.model_selection import train_test_split\n",
    "from sklearn.preprocessing import StandardScaler\n",
    "from sklearn.metrics import confusion_matrix, accuracy_score\n",
    "from sklearn.metrics import classification_report"
   ]
  },
  {
   "cell_type": "code",
   "execution_count": 2,
   "id": "4bdc9419",
   "metadata": {},
   "outputs": [
    {
     "data": {
      "text/html": [
       "<div>\n",
       "<style scoped>\n",
       "    .dataframe tbody tr th:only-of-type {\n",
       "        vertical-align: middle;\n",
       "    }\n",
       "\n",
       "    .dataframe tbody tr th {\n",
       "        vertical-align: top;\n",
       "    }\n",
       "\n",
       "    .dataframe thead th {\n",
       "        text-align: right;\n",
       "    }\n",
       "</style>\n",
       "<table border=\"1\" class=\"dataframe\">\n",
       "  <thead>\n",
       "    <tr style=\"text-align: right;\">\n",
       "      <th></th>\n",
       "      <th>Age</th>\n",
       "      <th>SystolicBP</th>\n",
       "      <th>DiastolicBP</th>\n",
       "      <th>BS</th>\n",
       "      <th>BodyTemp</th>\n",
       "      <th>HeartRate</th>\n",
       "      <th>RiskLevel</th>\n",
       "    </tr>\n",
       "  </thead>\n",
       "  <tbody>\n",
       "    <tr>\n",
       "      <th>0</th>\n",
       "      <td>25</td>\n",
       "      <td>130</td>\n",
       "      <td>80</td>\n",
       "      <td>15.0</td>\n",
       "      <td>98.0</td>\n",
       "      <td>86</td>\n",
       "      <td>high risk</td>\n",
       "    </tr>\n",
       "    <tr>\n",
       "      <th>1</th>\n",
       "      <td>35</td>\n",
       "      <td>140</td>\n",
       "      <td>90</td>\n",
       "      <td>13.0</td>\n",
       "      <td>98.0</td>\n",
       "      <td>70</td>\n",
       "      <td>high risk</td>\n",
       "    </tr>\n",
       "    <tr>\n",
       "      <th>2</th>\n",
       "      <td>29</td>\n",
       "      <td>90</td>\n",
       "      <td>70</td>\n",
       "      <td>8.0</td>\n",
       "      <td>100.0</td>\n",
       "      <td>80</td>\n",
       "      <td>high risk</td>\n",
       "    </tr>\n",
       "    <tr>\n",
       "      <th>3</th>\n",
       "      <td>30</td>\n",
       "      <td>140</td>\n",
       "      <td>85</td>\n",
       "      <td>7.0</td>\n",
       "      <td>98.0</td>\n",
       "      <td>70</td>\n",
       "      <td>high risk</td>\n",
       "    </tr>\n",
       "    <tr>\n",
       "      <th>4</th>\n",
       "      <td>35</td>\n",
       "      <td>120</td>\n",
       "      <td>60</td>\n",
       "      <td>6.1</td>\n",
       "      <td>98.0</td>\n",
       "      <td>76</td>\n",
       "      <td>low risk</td>\n",
       "    </tr>\n",
       "  </tbody>\n",
       "</table>\n",
       "</div>"
      ],
      "text/plain": [
       "   Age  SystolicBP  DiastolicBP    BS  BodyTemp  HeartRate  RiskLevel\n",
       "0   25         130           80  15.0      98.0         86  high risk\n",
       "1   35         140           90  13.0      98.0         70  high risk\n",
       "2   29          90           70   8.0     100.0         80  high risk\n",
       "3   30         140           85   7.0      98.0         70  high risk\n",
       "4   35         120           60   6.1      98.0         76   low risk"
      ]
     },
     "execution_count": 2,
     "metadata": {},
     "output_type": "execute_result"
    }
   ],
   "source": [
    "df = pd.read_csv('C:/ML summer internship/ML/Data/mhrd.csv')\n",
    "df.head()"
   ]
  },
  {
   "cell_type": "code",
   "execution_count": 3,
   "id": "867ea328",
   "metadata": {},
   "outputs": [
    {
     "data": {
      "text/html": [
       "<div>\n",
       "<style scoped>\n",
       "    .dataframe tbody tr th:only-of-type {\n",
       "        vertical-align: middle;\n",
       "    }\n",
       "\n",
       "    .dataframe tbody tr th {\n",
       "        vertical-align: top;\n",
       "    }\n",
       "\n",
       "    .dataframe thead th {\n",
       "        text-align: right;\n",
       "    }\n",
       "</style>\n",
       "<table border=\"1\" class=\"dataframe\">\n",
       "  <thead>\n",
       "    <tr style=\"text-align: right;\">\n",
       "      <th></th>\n",
       "      <th>Age</th>\n",
       "      <th>SystolicBP</th>\n",
       "      <th>DiastolicBP</th>\n",
       "      <th>BS</th>\n",
       "      <th>BodyTemp</th>\n",
       "      <th>HeartRate</th>\n",
       "      <th>RiskLevel</th>\n",
       "    </tr>\n",
       "  </thead>\n",
       "  <tbody>\n",
       "    <tr>\n",
       "      <th>1009</th>\n",
       "      <td>22</td>\n",
       "      <td>120</td>\n",
       "      <td>60</td>\n",
       "      <td>15.0</td>\n",
       "      <td>98.0</td>\n",
       "      <td>80</td>\n",
       "      <td>high risk</td>\n",
       "    </tr>\n",
       "    <tr>\n",
       "      <th>1010</th>\n",
       "      <td>55</td>\n",
       "      <td>120</td>\n",
       "      <td>90</td>\n",
       "      <td>18.0</td>\n",
       "      <td>98.0</td>\n",
       "      <td>60</td>\n",
       "      <td>high risk</td>\n",
       "    </tr>\n",
       "    <tr>\n",
       "      <th>1011</th>\n",
       "      <td>35</td>\n",
       "      <td>85</td>\n",
       "      <td>60</td>\n",
       "      <td>19.0</td>\n",
       "      <td>98.0</td>\n",
       "      <td>86</td>\n",
       "      <td>high risk</td>\n",
       "    </tr>\n",
       "    <tr>\n",
       "      <th>1012</th>\n",
       "      <td>43</td>\n",
       "      <td>120</td>\n",
       "      <td>90</td>\n",
       "      <td>18.0</td>\n",
       "      <td>98.0</td>\n",
       "      <td>70</td>\n",
       "      <td>high risk</td>\n",
       "    </tr>\n",
       "    <tr>\n",
       "      <th>1013</th>\n",
       "      <td>32</td>\n",
       "      <td>120</td>\n",
       "      <td>65</td>\n",
       "      <td>6.0</td>\n",
       "      <td>101.0</td>\n",
       "      <td>76</td>\n",
       "      <td>mid risk</td>\n",
       "    </tr>\n",
       "  </tbody>\n",
       "</table>\n",
       "</div>"
      ],
      "text/plain": [
       "      Age  SystolicBP  DiastolicBP    BS  BodyTemp  HeartRate  RiskLevel\n",
       "1009   22         120           60  15.0      98.0         80  high risk\n",
       "1010   55         120           90  18.0      98.0         60  high risk\n",
       "1011   35          85           60  19.0      98.0         86  high risk\n",
       "1012   43         120           90  18.0      98.0         70  high risk\n",
       "1013   32         120           65   6.0     101.0         76   mid risk"
      ]
     },
     "execution_count": 3,
     "metadata": {},
     "output_type": "execute_result"
    }
   ],
   "source": [
    "df.tail()"
   ]
  },
  {
   "cell_type": "code",
   "execution_count": 4,
   "id": "f5c2687a",
   "metadata": {},
   "outputs": [
    {
     "data": {
      "text/plain": [
       "Age              int64\n",
       "SystolicBP       int64\n",
       "DiastolicBP      int64\n",
       "BS             float64\n",
       "BodyTemp       float64\n",
       "HeartRate        int64\n",
       "RiskLevel       object\n",
       "dtype: object"
      ]
     },
     "execution_count": 4,
     "metadata": {},
     "output_type": "execute_result"
    }
   ],
   "source": [
    "df.dtypes"
   ]
  },
  {
   "cell_type": "code",
   "execution_count": 5,
   "id": "d8d55b43",
   "metadata": {},
   "outputs": [
    {
     "data": {
      "text/plain": [
       "(1014, 7)"
      ]
     },
     "execution_count": 5,
     "metadata": {},
     "output_type": "execute_result"
    }
   ],
   "source": [
    "df.shape"
   ]
  },
  {
   "cell_type": "code",
   "execution_count": 6,
   "id": "2e9d7fde",
   "metadata": {},
   "outputs": [
    {
     "data": {
      "text/plain": [
       "Age            0\n",
       "SystolicBP     0\n",
       "DiastolicBP    0\n",
       "BS             0\n",
       "BodyTemp       0\n",
       "HeartRate      0\n",
       "RiskLevel      0\n",
       "dtype: int64"
      ]
     },
     "execution_count": 6,
     "metadata": {},
     "output_type": "execute_result"
    }
   ],
   "source": [
    "df.isnull().sum()"
   ]
  },
  {
   "cell_type": "code",
   "execution_count": 7,
   "id": "dbd5728c",
   "metadata": {},
   "outputs": [
    {
     "data": {
      "text/plain": [
       "True"
      ]
     },
     "execution_count": 7,
     "metadata": {},
     "output_type": "execute_result"
    }
   ],
   "source": [
    "data_dup = df.duplicated().any()\n",
    "data_dup"
   ]
  },
  {
   "cell_type": "code",
   "execution_count": 8,
   "id": "2fed9bd1",
   "metadata": {},
   "outputs": [],
   "source": [
    "df = df.drop_duplicates()"
   ]
  },
  {
   "cell_type": "code",
   "execution_count": 9,
   "id": "2149e6d8",
   "metadata": {},
   "outputs": [
    {
     "data": {
      "text/plain": [
       "False"
      ]
     },
     "execution_count": 9,
     "metadata": {},
     "output_type": "execute_result"
    }
   ],
   "source": [
    "data_dup = df.duplicated().any()\n",
    "data_dup\n"
   ]
  },
  {
   "cell_type": "code",
   "execution_count": 10,
   "id": "2383c5a9",
   "metadata": {},
   "outputs": [],
   "source": [
    "ca_val=[]\n",
    "co_val=[]\n",
    "for column in df.columns:\n",
    "    if df[column].nunique() <=10:\n",
    "        ca_val.append(column)\n",
    "    else:\n",
    "        co_val.append(column)"
   ]
  },
  {
   "cell_type": "code",
   "execution_count": 11,
   "id": "17ebbb1e",
   "metadata": {},
   "outputs": [
    {
     "data": {
      "text/plain": [
       "['BodyTemp', 'RiskLevel']"
      ]
     },
     "execution_count": 11,
     "metadata": {},
     "output_type": "execute_result"
    }
   ],
   "source": [
    "ca_val"
   ]
  },
  {
   "cell_type": "code",
   "execution_count": 12,
   "id": "c0c8855e",
   "metadata": {},
   "outputs": [
    {
     "data": {
      "text/plain": [
       "array([ 98. , 100. , 102. , 101. , 103. ,  98.4,  99. ,  98.6])"
      ]
     },
     "execution_count": 12,
     "metadata": {},
     "output_type": "execute_result"
    }
   ],
   "source": [
    "df['BodyTemp'].unique()"
   ]
  },
  {
   "cell_type": "code",
   "execution_count": 13,
   "id": "42d249d4",
   "metadata": {},
   "outputs": [
    {
     "data": {
      "text/plain": [
       "array(['high risk', 'low risk', 'mid risk'], dtype=object)"
      ]
     },
     "execution_count": 13,
     "metadata": {},
     "output_type": "execute_result"
    }
   ],
   "source": [
    "df['RiskLevel'].unique()"
   ]
  },
  {
   "cell_type": "code",
   "execution_count": 14,
   "id": "c741f2a5",
   "metadata": {},
   "outputs": [
    {
     "data": {
      "text/plain": [
       "['Age', 'SystolicBP', 'DiastolicBP', 'BS', 'HeartRate']"
      ]
     },
     "execution_count": 14,
     "metadata": {},
     "output_type": "execute_result"
    }
   ],
   "source": [
    "co_val"
   ]
  },
  {
   "cell_type": "code",
   "execution_count": 15,
   "id": "b72057c7",
   "metadata": {},
   "outputs": [
    {
     "data": {
      "text/plain": [
       "array([25, 35, 29, 30, 23, 32, 42, 19, 20, 48, 15, 50, 10, 40, 21, 18, 16,\n",
       "       22, 49, 28, 12, 60, 55, 45, 31, 17, 26, 54, 44, 33, 13, 34, 38, 39,\n",
       "       63, 14, 37, 51, 62, 43, 65, 66, 56, 70, 27, 36, 59, 24, 41, 46],\n",
       "      dtype=int64)"
      ]
     },
     "execution_count": 15,
     "metadata": {},
     "output_type": "execute_result"
    }
   ],
   "source": [
    "df['Age'].unique()"
   ]
  },
  {
   "cell_type": "code",
   "execution_count": 16,
   "id": "34f7c11d",
   "metadata": {},
   "outputs": [
    {
     "data": {
      "text/plain": [
       "array([130, 140,  90, 120,  85, 110,  70, 100,  75,  95,  76,  80, 115,\n",
       "       135, 160, 129,  83,  99,  78], dtype=int64)"
      ]
     },
     "execution_count": 16,
     "metadata": {},
     "output_type": "execute_result"
    }
   ],
   "source": [
    "df['SystolicBP'].unique()"
   ]
  },
  {
   "cell_type": "code",
   "execution_count": 17,
   "id": "64b69bbe",
   "metadata": {},
   "outputs": [
    {
     "data": {
      "text/plain": [
       "array([ 80,  90,  70,  85,  60,  89,  75, 100,  50,  65,  95,  49,  63,\n",
       "        69,  76,  68], dtype=int64)"
      ]
     },
     "execution_count": 17,
     "metadata": {},
     "output_type": "execute_result"
    }
   ],
   "source": [
    "df['DiastolicBP'].unique()"
   ]
  },
  {
   "cell_type": "code",
   "execution_count": 18,
   "id": "b840989c",
   "metadata": {},
   "outputs": [
    {
     "data": {
      "text/plain": [
       "array([15.  , 13.  ,  8.  ,  7.  ,  6.1 ,  7.01, 11.  ,  6.9 , 18.  ,\n",
       "        6.7 ,  7.5 ,  7.2 ,  7.1 ,  6.4 ,  9.  ,  6.  ,  7.7 , 12.  ,\n",
       "       16.  ,  7.8 ,  6.8 ,  7.9 , 17.  , 19.  , 10.  ,  6.3 ,  6.6 ,\n",
       "        6.5 ,  7.6 ])"
      ]
     },
     "execution_count": 18,
     "metadata": {},
     "output_type": "execute_result"
    }
   ],
   "source": [
    "df['BS'].unique()"
   ]
  },
  {
   "cell_type": "code",
   "execution_count": 19,
   "id": "9089b5c0",
   "metadata": {},
   "outputs": [
    {
     "data": {
      "text/plain": [
       "array([86, 70, 80, 76, 78, 77, 88, 90, 66, 82, 60, 75, 67, 65, 68,  7],\n",
       "      dtype=int64)"
      ]
     },
     "execution_count": 19,
     "metadata": {},
     "output_type": "execute_result"
    }
   ],
   "source": [
    "df['HeartRate'].unique()"
   ]
  },
  {
   "cell_type": "code",
   "execution_count": 20,
   "id": "0e95ea50",
   "metadata": {},
   "outputs": [
    {
     "data": {
      "text/html": [
       "<div>\n",
       "<style scoped>\n",
       "    .dataframe tbody tr th:only-of-type {\n",
       "        vertical-align: middle;\n",
       "    }\n",
       "\n",
       "    .dataframe tbody tr th {\n",
       "        vertical-align: top;\n",
       "    }\n",
       "\n",
       "    .dataframe thead th {\n",
       "        text-align: right;\n",
       "    }\n",
       "</style>\n",
       "<table border=\"1\" class=\"dataframe\">\n",
       "  <thead>\n",
       "    <tr style=\"text-align: right;\">\n",
       "      <th></th>\n",
       "      <th>Age</th>\n",
       "      <th>SystolicBP</th>\n",
       "      <th>DiastolicBP</th>\n",
       "      <th>BS</th>\n",
       "      <th>BodyTemp</th>\n",
       "      <th>HeartRate</th>\n",
       "      <th>RiskLevel</th>\n",
       "    </tr>\n",
       "  </thead>\n",
       "  <tbody>\n",
       "    <tr>\n",
       "      <th>0</th>\n",
       "      <td>25</td>\n",
       "      <td>130</td>\n",
       "      <td>80</td>\n",
       "      <td>15.0</td>\n",
       "      <td>98.0</td>\n",
       "      <td>86</td>\n",
       "      <td>3.0</td>\n",
       "    </tr>\n",
       "    <tr>\n",
       "      <th>1</th>\n",
       "      <td>35</td>\n",
       "      <td>140</td>\n",
       "      <td>90</td>\n",
       "      <td>13.0</td>\n",
       "      <td>98.0</td>\n",
       "      <td>70</td>\n",
       "      <td>3.0</td>\n",
       "    </tr>\n",
       "    <tr>\n",
       "      <th>2</th>\n",
       "      <td>29</td>\n",
       "      <td>90</td>\n",
       "      <td>70</td>\n",
       "      <td>8.0</td>\n",
       "      <td>100.0</td>\n",
       "      <td>80</td>\n",
       "      <td>3.0</td>\n",
       "    </tr>\n",
       "    <tr>\n",
       "      <th>3</th>\n",
       "      <td>30</td>\n",
       "      <td>140</td>\n",
       "      <td>85</td>\n",
       "      <td>7.0</td>\n",
       "      <td>98.0</td>\n",
       "      <td>70</td>\n",
       "      <td>3.0</td>\n",
       "    </tr>\n",
       "    <tr>\n",
       "      <th>4</th>\n",
       "      <td>35</td>\n",
       "      <td>120</td>\n",
       "      <td>60</td>\n",
       "      <td>6.1</td>\n",
       "      <td>98.0</td>\n",
       "      <td>76</td>\n",
       "      <td>1.0</td>\n",
       "    </tr>\n",
       "    <tr>\n",
       "      <th>...</th>\n",
       "      <td>...</td>\n",
       "      <td>...</td>\n",
       "      <td>...</td>\n",
       "      <td>...</td>\n",
       "      <td>...</td>\n",
       "      <td>...</td>\n",
       "      <td>...</td>\n",
       "    </tr>\n",
       "    <tr>\n",
       "      <th>673</th>\n",
       "      <td>12</td>\n",
       "      <td>100</td>\n",
       "      <td>50</td>\n",
       "      <td>6.4</td>\n",
       "      <td>98.0</td>\n",
       "      <td>70</td>\n",
       "      <td>2.0</td>\n",
       "    </tr>\n",
       "    <tr>\n",
       "      <th>674</th>\n",
       "      <td>15</td>\n",
       "      <td>100</td>\n",
       "      <td>60</td>\n",
       "      <td>6.0</td>\n",
       "      <td>98.0</td>\n",
       "      <td>80</td>\n",
       "      <td>1.0</td>\n",
       "    </tr>\n",
       "    <tr>\n",
       "      <th>703</th>\n",
       "      <td>15</td>\n",
       "      <td>100</td>\n",
       "      <td>49</td>\n",
       "      <td>7.6</td>\n",
       "      <td>98.0</td>\n",
       "      <td>77</td>\n",
       "      <td>1.0</td>\n",
       "    </tr>\n",
       "    <tr>\n",
       "      <th>704</th>\n",
       "      <td>12</td>\n",
       "      <td>100</td>\n",
       "      <td>50</td>\n",
       "      <td>6.0</td>\n",
       "      <td>98.0</td>\n",
       "      <td>70</td>\n",
       "      <td>2.0</td>\n",
       "    </tr>\n",
       "    <tr>\n",
       "      <th>705</th>\n",
       "      <td>21</td>\n",
       "      <td>100</td>\n",
       "      <td>50</td>\n",
       "      <td>6.8</td>\n",
       "      <td>98.0</td>\n",
       "      <td>60</td>\n",
       "      <td>1.0</td>\n",
       "    </tr>\n",
       "  </tbody>\n",
       "</table>\n",
       "<p>452 rows × 7 columns</p>\n",
       "</div>"
      ],
      "text/plain": [
       "     Age  SystolicBP  DiastolicBP    BS  BodyTemp  HeartRate  RiskLevel\n",
       "0     25         130           80  15.0      98.0         86        3.0\n",
       "1     35         140           90  13.0      98.0         70        3.0\n",
       "2     29          90           70   8.0     100.0         80        3.0\n",
       "3     30         140           85   7.0      98.0         70        3.0\n",
       "4     35         120           60   6.1      98.0         76        1.0\n",
       "..   ...         ...          ...   ...       ...        ...        ...\n",
       "673   12         100           50   6.4      98.0         70        2.0\n",
       "674   15         100           60   6.0      98.0         80        1.0\n",
       "703   15         100           49   7.6      98.0         77        1.0\n",
       "704   12         100           50   6.0      98.0         70        2.0\n",
       "705   21         100           50   6.8      98.0         60        1.0\n",
       "\n",
       "[452 rows x 7 columns]"
      ]
     },
     "execution_count": 20,
     "metadata": {},
     "output_type": "execute_result"
    }
   ],
   "source": [
    "RiskLevel = {'low risk':1,\n",
    "'mid risk':2,\n",
    "'high risk':3}\n",
    "df['RiskLevel'] = df['RiskLevel'].map(RiskLevel).astype(float)\n",
    "df\n"
   ]
  },
  {
   "cell_type": "code",
   "execution_count": 21,
   "id": "4642ebf1",
   "metadata": {},
   "outputs": [
    {
     "data": {
      "text/plain": [
       "1.0    234\n",
       "3.0    112\n",
       "2.0    106\n",
       "Name: RiskLevel, dtype: int64"
      ]
     },
     "execution_count": 21,
     "metadata": {},
     "output_type": "execute_result"
    }
   ],
   "source": [
    "df['RiskLevel'].value_counts()\n"
   ]
  },
  {
   "cell_type": "code",
   "execution_count": 22,
   "id": "a278f270",
   "metadata": {},
   "outputs": [
    {
     "data": {
      "text/html": [
       "<div>\n",
       "<style scoped>\n",
       "    .dataframe tbody tr th:only-of-type {\n",
       "        vertical-align: middle;\n",
       "    }\n",
       "\n",
       "    .dataframe tbody tr th {\n",
       "        vertical-align: top;\n",
       "    }\n",
       "\n",
       "    .dataframe thead th {\n",
       "        text-align: right;\n",
       "    }\n",
       "</style>\n",
       "<table border=\"1\" class=\"dataframe\">\n",
       "  <thead>\n",
       "    <tr style=\"text-align: right;\">\n",
       "      <th></th>\n",
       "      <th>Age</th>\n",
       "      <th>SystolicBP</th>\n",
       "      <th>DiastolicBP</th>\n",
       "      <th>BS</th>\n",
       "      <th>BodyTemp</th>\n",
       "      <th>HeartRate</th>\n",
       "      <th>RiskLevel</th>\n",
       "    </tr>\n",
       "  </thead>\n",
       "  <tbody>\n",
       "    <tr>\n",
       "      <th>count</th>\n",
       "      <td>452.000000</td>\n",
       "      <td>452.000000</td>\n",
       "      <td>452.000000</td>\n",
       "      <td>452.000000</td>\n",
       "      <td>452.000000</td>\n",
       "      <td>452.000000</td>\n",
       "      <td>452.000000</td>\n",
       "    </tr>\n",
       "    <tr>\n",
       "      <th>mean</th>\n",
       "      <td>29.194690</td>\n",
       "      <td>110.553097</td>\n",
       "      <td>75.418142</td>\n",
       "      <td>8.346173</td>\n",
       "      <td>98.692478</td>\n",
       "      <td>73.949115</td>\n",
       "      <td>1.730088</td>\n",
       "    </tr>\n",
       "    <tr>\n",
       "      <th>std</th>\n",
       "      <td>13.767379</td>\n",
       "      <td>17.872282</td>\n",
       "      <td>13.754578</td>\n",
       "      <td>2.829209</td>\n",
       "      <td>1.410897</td>\n",
       "      <td>8.156973</td>\n",
       "      <td>0.833169</td>\n",
       "    </tr>\n",
       "    <tr>\n",
       "      <th>min</th>\n",
       "      <td>10.000000</td>\n",
       "      <td>70.000000</td>\n",
       "      <td>49.000000</td>\n",
       "      <td>6.000000</td>\n",
       "      <td>98.000000</td>\n",
       "      <td>7.000000</td>\n",
       "      <td>1.000000</td>\n",
       "    </tr>\n",
       "    <tr>\n",
       "      <th>25%</th>\n",
       "      <td>19.000000</td>\n",
       "      <td>90.000000</td>\n",
       "      <td>65.000000</td>\n",
       "      <td>6.900000</td>\n",
       "      <td>98.000000</td>\n",
       "      <td>70.000000</td>\n",
       "      <td>1.000000</td>\n",
       "    </tr>\n",
       "    <tr>\n",
       "      <th>50%</th>\n",
       "      <td>25.000000</td>\n",
       "      <td>120.000000</td>\n",
       "      <td>80.000000</td>\n",
       "      <td>7.500000</td>\n",
       "      <td>98.000000</td>\n",
       "      <td>76.000000</td>\n",
       "      <td>1.000000</td>\n",
       "    </tr>\n",
       "    <tr>\n",
       "      <th>75%</th>\n",
       "      <td>35.000000</td>\n",
       "      <td>120.000000</td>\n",
       "      <td>86.000000</td>\n",
       "      <td>7.900000</td>\n",
       "      <td>98.000000</td>\n",
       "      <td>80.000000</td>\n",
       "      <td>2.000000</td>\n",
       "    </tr>\n",
       "    <tr>\n",
       "      <th>max</th>\n",
       "      <td>70.000000</td>\n",
       "      <td>160.000000</td>\n",
       "      <td>100.000000</td>\n",
       "      <td>19.000000</td>\n",
       "      <td>103.000000</td>\n",
       "      <td>90.000000</td>\n",
       "      <td>3.000000</td>\n",
       "    </tr>\n",
       "  </tbody>\n",
       "</table>\n",
       "</div>"
      ],
      "text/plain": [
       "              Age  SystolicBP  DiastolicBP          BS    BodyTemp  \\\n",
       "count  452.000000  452.000000   452.000000  452.000000  452.000000   \n",
       "mean    29.194690  110.553097    75.418142    8.346173   98.692478   \n",
       "std     13.767379   17.872282    13.754578    2.829209    1.410897   \n",
       "min     10.000000   70.000000    49.000000    6.000000   98.000000   \n",
       "25%     19.000000   90.000000    65.000000    6.900000   98.000000   \n",
       "50%     25.000000  120.000000    80.000000    7.500000   98.000000   \n",
       "75%     35.000000  120.000000    86.000000    7.900000   98.000000   \n",
       "max     70.000000  160.000000   100.000000   19.000000  103.000000   \n",
       "\n",
       "        HeartRate   RiskLevel  \n",
       "count  452.000000  452.000000  \n",
       "mean    73.949115    1.730088  \n",
       "std      8.156973    0.833169  \n",
       "min      7.000000    1.000000  \n",
       "25%     70.000000    1.000000  \n",
       "50%     76.000000    1.000000  \n",
       "75%     80.000000    2.000000  \n",
       "max     90.000000    3.000000  "
      ]
     },
     "execution_count": 22,
     "metadata": {},
     "output_type": "execute_result"
    }
   ],
   "source": [
    "df.describe()"
   ]
  },
  {
   "cell_type": "code",
   "execution_count": 23,
   "id": "a7754519",
   "metadata": {},
   "outputs": [
    {
     "data": {
      "text/html": [
       "<div>\n",
       "<style scoped>\n",
       "    .dataframe tbody tr th:only-of-type {\n",
       "        vertical-align: middle;\n",
       "    }\n",
       "\n",
       "    .dataframe tbody tr th {\n",
       "        vertical-align: top;\n",
       "    }\n",
       "\n",
       "    .dataframe thead th {\n",
       "        text-align: right;\n",
       "    }\n",
       "</style>\n",
       "<table border=\"1\" class=\"dataframe\">\n",
       "  <thead>\n",
       "    <tr style=\"text-align: right;\">\n",
       "      <th></th>\n",
       "      <th>RiskLevel</th>\n",
       "      <th>Age</th>\n",
       "    </tr>\n",
       "  </thead>\n",
       "  <tbody>\n",
       "    <tr>\n",
       "      <th>RiskLevel</th>\n",
       "      <td>1.00000</td>\n",
       "      <td>0.18301</td>\n",
       "    </tr>\n",
       "    <tr>\n",
       "      <th>Age</th>\n",
       "      <td>0.18301</td>\n",
       "      <td>1.00000</td>\n",
       "    </tr>\n",
       "  </tbody>\n",
       "</table>\n",
       "</div>"
      ],
      "text/plain": [
       "           RiskLevel      Age\n",
       "RiskLevel    1.00000  0.18301\n",
       "Age          0.18301  1.00000"
      ]
     },
     "execution_count": 23,
     "metadata": {},
     "output_type": "execute_result"
    }
   ],
   "source": [
    "df[['RiskLevel','Age']].corr()"
   ]
  },
  {
   "cell_type": "code",
   "execution_count": 24,
   "id": "22ad0f18",
   "metadata": {},
   "outputs": [
    {
     "data": {
      "text/html": [
       "<div>\n",
       "<style scoped>\n",
       "    .dataframe tbody tr th:only-of-type {\n",
       "        vertical-align: middle;\n",
       "    }\n",
       "\n",
       "    .dataframe tbody tr th {\n",
       "        vertical-align: top;\n",
       "    }\n",
       "\n",
       "    .dataframe thead th {\n",
       "        text-align: right;\n",
       "    }\n",
       "</style>\n",
       "<table border=\"1\" class=\"dataframe\">\n",
       "  <thead>\n",
       "    <tr style=\"text-align: right;\">\n",
       "      <th></th>\n",
       "      <th>RiskLevel</th>\n",
       "      <th>SystolicBP</th>\n",
       "    </tr>\n",
       "  </thead>\n",
       "  <tbody>\n",
       "    <tr>\n",
       "      <th>RiskLevel</th>\n",
       "      <td>1.000000</td>\n",
       "      <td>0.327365</td>\n",
       "    </tr>\n",
       "    <tr>\n",
       "      <th>SystolicBP</th>\n",
       "      <td>0.327365</td>\n",
       "      <td>1.000000</td>\n",
       "    </tr>\n",
       "  </tbody>\n",
       "</table>\n",
       "</div>"
      ],
      "text/plain": [
       "            RiskLevel  SystolicBP\n",
       "RiskLevel    1.000000    0.327365\n",
       "SystolicBP   0.327365    1.000000"
      ]
     },
     "execution_count": 24,
     "metadata": {},
     "output_type": "execute_result"
    }
   ],
   "source": [
    "df[['RiskLevel','SystolicBP']].corr()"
   ]
  },
  {
   "cell_type": "code",
   "execution_count": 25,
   "id": "f6ffba48",
   "metadata": {},
   "outputs": [
    {
     "data": {
      "text/html": [
       "<div>\n",
       "<style scoped>\n",
       "    .dataframe tbody tr th:only-of-type {\n",
       "        vertical-align: middle;\n",
       "    }\n",
       "\n",
       "    .dataframe tbody tr th {\n",
       "        vertical-align: top;\n",
       "    }\n",
       "\n",
       "    .dataframe thead th {\n",
       "        text-align: right;\n",
       "    }\n",
       "</style>\n",
       "<table border=\"1\" class=\"dataframe\">\n",
       "  <thead>\n",
       "    <tr style=\"text-align: right;\">\n",
       "      <th></th>\n",
       "      <th>RiskLevel</th>\n",
       "      <th>DiastolicBP</th>\n",
       "    </tr>\n",
       "  </thead>\n",
       "  <tbody>\n",
       "    <tr>\n",
       "      <th>RiskLevel</th>\n",
       "      <td>1.000000</td>\n",
       "      <td>0.254239</td>\n",
       "    </tr>\n",
       "    <tr>\n",
       "      <th>DiastolicBP</th>\n",
       "      <td>0.254239</td>\n",
       "      <td>1.000000</td>\n",
       "    </tr>\n",
       "  </tbody>\n",
       "</table>\n",
       "</div>"
      ],
      "text/plain": [
       "             RiskLevel  DiastolicBP\n",
       "RiskLevel     1.000000     0.254239\n",
       "DiastolicBP   0.254239     1.000000"
      ]
     },
     "execution_count": 25,
     "metadata": {},
     "output_type": "execute_result"
    }
   ],
   "source": [
    "df[['RiskLevel','DiastolicBP']].corr()"
   ]
  },
  {
   "cell_type": "code",
   "execution_count": 26,
   "id": "033c77b5",
   "metadata": {},
   "outputs": [
    {
     "data": {
      "text/html": [
       "<div>\n",
       "<style scoped>\n",
       "    .dataframe tbody tr th:only-of-type {\n",
       "        vertical-align: middle;\n",
       "    }\n",
       "\n",
       "    .dataframe tbody tr th {\n",
       "        vertical-align: top;\n",
       "    }\n",
       "\n",
       "    .dataframe thead th {\n",
       "        text-align: right;\n",
       "    }\n",
       "</style>\n",
       "<table border=\"1\" class=\"dataframe\">\n",
       "  <thead>\n",
       "    <tr style=\"text-align: right;\">\n",
       "      <th></th>\n",
       "      <th>RiskLevel</th>\n",
       "      <th>BS</th>\n",
       "    </tr>\n",
       "  </thead>\n",
       "  <tbody>\n",
       "    <tr>\n",
       "      <th>RiskLevel</th>\n",
       "      <td>1.000000</td>\n",
       "      <td>0.548888</td>\n",
       "    </tr>\n",
       "    <tr>\n",
       "      <th>BS</th>\n",
       "      <td>0.548888</td>\n",
       "      <td>1.000000</td>\n",
       "    </tr>\n",
       "  </tbody>\n",
       "</table>\n",
       "</div>"
      ],
      "text/plain": [
       "           RiskLevel        BS\n",
       "RiskLevel   1.000000  0.548888\n",
       "BS          0.548888  1.000000"
      ]
     },
     "execution_count": 26,
     "metadata": {},
     "output_type": "execute_result"
    }
   ],
   "source": [
    "df[['RiskLevel','BS']].corr()"
   ]
  },
  {
   "cell_type": "code",
   "execution_count": 27,
   "id": "8688b587",
   "metadata": {},
   "outputs": [
    {
     "data": {
      "text/html": [
       "<div>\n",
       "<style scoped>\n",
       "    .dataframe tbody tr th:only-of-type {\n",
       "        vertical-align: middle;\n",
       "    }\n",
       "\n",
       "    .dataframe tbody tr th {\n",
       "        vertical-align: top;\n",
       "    }\n",
       "\n",
       "    .dataframe thead th {\n",
       "        text-align: right;\n",
       "    }\n",
       "</style>\n",
       "<table border=\"1\" class=\"dataframe\">\n",
       "  <thead>\n",
       "    <tr style=\"text-align: right;\">\n",
       "      <th></th>\n",
       "      <th>RiskLevel</th>\n",
       "      <th>HeartRate</th>\n",
       "    </tr>\n",
       "  </thead>\n",
       "  <tbody>\n",
       "    <tr>\n",
       "      <th>RiskLevel</th>\n",
       "      <td>1.000000</td>\n",
       "      <td>0.183289</td>\n",
       "    </tr>\n",
       "    <tr>\n",
       "      <th>HeartRate</th>\n",
       "      <td>0.183289</td>\n",
       "      <td>1.000000</td>\n",
       "    </tr>\n",
       "  </tbody>\n",
       "</table>\n",
       "</div>"
      ],
      "text/plain": [
       "           RiskLevel  HeartRate\n",
       "RiskLevel   1.000000   0.183289\n",
       "HeartRate   0.183289   1.000000"
      ]
     },
     "execution_count": 27,
     "metadata": {},
     "output_type": "execute_result"
    }
   ],
   "source": [
    "df[['RiskLevel','HeartRate']].corr()"
   ]
  },
  {
   "cell_type": "code",
   "execution_count": 28,
   "id": "473a5dc4",
   "metadata": {},
   "outputs": [],
   "source": [
    "import matplotlib.pyplot as plt\n",
    "import pandas as pd\n",
    "# Load your data into a Pandas DataFrame\n",
    "df = pd.read_csv('C:/ML summer internship/ML/Data/mhrd.csv')"
   ]
  },
  {
   "cell_type": "code",
   "execution_count": 29,
   "id": "706f1f74",
   "metadata": {},
   "outputs": [
    {
     "data": {
      "image/png": "[encoded data removed]",
      "text/plain": [
       "<Figure size 800x600 with 1 Axes>"
      ]
     },
     "metadata": {},
     "output_type": "display_data"
    }
   ],
   "source": [
    "plt.figure(figsize=(8, 6))\n",
    "df['Age'].value_counts().plot(kind='bar')\n",
    "plt.title('Bar Chart')\n",
    "plt.xlabel('X Axis Label')\n",
    "plt.ylabel('Y Axis Label')\n",
    "plt.show()"
   ]
  },
  {
   "cell_type": "code",
   "execution_count": 30,
   "id": "d4c3477f",
   "metadata": {},
   "outputs": [
    {
     "data": {
      "image/png": "[encoded data removed]",
      "text/plain": [
       "<Figure size 800x600 with 1 Axes>"
      ]
     },
     "metadata": {},
     "output_type": "display_data"
    }
   ],
   "source": [
    "plt.figure(figsize=(8, 6))\n",
    "df['DiastolicBP'].value_counts().plot(kind='bar')\n",
    "plt.title('Bar Chart')\n",
    "plt.xlabel('X Axis Label')\n",
    "plt.ylabel('Y Axis Label')\n",
    "plt.show()"
   ]
  },
  {
   "cell_type": "code",
   "execution_count": 31,
   "id": "ff2a23d0",
   "metadata": {},
   "outputs": [
    {
     "data": {
      "image/png": "[encoded data removed]",
      "text/plain": [
       "<Figure size 800x600 with 1 Axes>"
      ]
     },
     "metadata": {},
     "output_type": "display_data"
    }
   ],
   "source": [
    "plt.figure(figsize=(8, 6))\n",
    "df['BS'].value_counts().plot(kind='bar')\n",
    "plt.title('Bar Chart')\n",
    "plt.xlabel('X Axis Label')\n",
    "plt.ylabel('Y Axis Label')\n",
    "plt.show()"
   ]
  },
  {
   "cell_type": "code",
   "execution_count": 32,
   "id": "fab7e586",
   "metadata": {},
   "outputs": [
    {
     "data": {
      "image/png": "[encoded data removed]",
      "text/plain": [
       "<Figure size 800x600 with 1 Axes>"
      ]
     },
     "metadata": {},
     "output_type": "display_data"
    }
   ],
   "source": [
    "plt.figure(figsize=(8, 6))\n",
    "df['HeartRate'].value_counts().plot(kind='bar')\n",
    "plt.title('Bar Chart')\n",
    "plt.xlabel('X Axis Label')\n",
    "plt.ylabel('Y Axis Label')\n",
    "plt.show()\n"
   ]
  },
  {
   "cell_type": "code",
   "execution_count": 33,
   "id": "75d0b444",
   "metadata": {},
   "outputs": [
    {
     "data": {
      "image/png": "[encoded data removed]",
      "text/plain": [
       "<Figure size 800x600 with 1 Axes>"
      ]
     },
     "metadata": {},
     "output_type": "display_data"
    }
   ],
   "source": [
    "plt.figure(figsize=(8, 6))\n",
    "df['RiskLevel'].value_counts().plot(kind='bar')\n",
    "plt.title('Bar Chart')\n",
    "plt.xlabel('X Axis Label')\n",
    "plt.ylabel('Y Axis Label')\n",
    "plt.show()\n"
   ]
  },
  {
   "cell_type": "code",
   "execution_count": 34,
   "id": "7779761f",
   "metadata": {},
   "outputs": [
    {
     "data": {
      "text/html": [
       "<div>\n",
       "<style scoped>\n",
       "    .dataframe tbody tr th:only-of-type {\n",
       "        vertical-align: middle;\n",
       "    }\n",
       "\n",
       "    .dataframe tbody tr th {\n",
       "        vertical-align: top;\n",
       "    }\n",
       "\n",
       "    .dataframe thead th {\n",
       "        text-align: right;\n",
       "    }\n",
       "</style>\n",
       "<table border=\"1\" class=\"dataframe\">\n",
       "  <thead>\n",
       "    <tr style=\"text-align: right;\">\n",
       "      <th></th>\n",
       "      <th>Age</th>\n",
       "      <th>SystolicBP</th>\n",
       "      <th>DiastolicBP</th>\n",
       "      <th>BS</th>\n",
       "      <th>BodyTemp</th>\n",
       "      <th>HeartRate</th>\n",
       "      <th>RiskLevel</th>\n",
       "    </tr>\n",
       "  </thead>\n",
       "  <tbody>\n",
       "    <tr>\n",
       "      <th>0</th>\n",
       "      <td>25</td>\n",
       "      <td>130</td>\n",
       "      <td>80</td>\n",
       "      <td>15.0</td>\n",
       "      <td>98.0</td>\n",
       "      <td>86</td>\n",
       "      <td>high risk</td>\n",
       "    </tr>\n",
       "    <tr>\n",
       "      <th>1</th>\n",
       "      <td>35</td>\n",
       "      <td>140</td>\n",
       "      <td>90</td>\n",
       "      <td>13.0</td>\n",
       "      <td>98.0</td>\n",
       "      <td>70</td>\n",
       "      <td>high risk</td>\n",
       "    </tr>\n",
       "    <tr>\n",
       "      <th>2</th>\n",
       "      <td>29</td>\n",
       "      <td>90</td>\n",
       "      <td>70</td>\n",
       "      <td>8.0</td>\n",
       "      <td>100.0</td>\n",
       "      <td>80</td>\n",
       "      <td>high risk</td>\n",
       "    </tr>\n",
       "    <tr>\n",
       "      <th>3</th>\n",
       "      <td>30</td>\n",
       "      <td>140</td>\n",
       "      <td>85</td>\n",
       "      <td>7.0</td>\n",
       "      <td>98.0</td>\n",
       "      <td>70</td>\n",
       "      <td>high risk</td>\n",
       "    </tr>\n",
       "    <tr>\n",
       "      <th>4</th>\n",
       "      <td>35</td>\n",
       "      <td>120</td>\n",
       "      <td>60</td>\n",
       "      <td>6.1</td>\n",
       "      <td>98.0</td>\n",
       "      <td>76</td>\n",
       "      <td>low risk</td>\n",
       "    </tr>\n",
       "    <tr>\n",
       "      <th>...</th>\n",
       "      <td>...</td>\n",
       "      <td>...</td>\n",
       "      <td>...</td>\n",
       "      <td>...</td>\n",
       "      <td>...</td>\n",
       "      <td>...</td>\n",
       "      <td>...</td>\n",
       "    </tr>\n",
       "    <tr>\n",
       "      <th>1009</th>\n",
       "      <td>22</td>\n",
       "      <td>120</td>\n",
       "      <td>60</td>\n",
       "      <td>15.0</td>\n",
       "      <td>98.0</td>\n",
       "      <td>80</td>\n",
       "      <td>high risk</td>\n",
       "    </tr>\n",
       "    <tr>\n",
       "      <th>1010</th>\n",
       "      <td>55</td>\n",
       "      <td>120</td>\n",
       "      <td>90</td>\n",
       "      <td>18.0</td>\n",
       "      <td>98.0</td>\n",
       "      <td>60</td>\n",
       "      <td>high risk</td>\n",
       "    </tr>\n",
       "    <tr>\n",
       "      <th>1011</th>\n",
       "      <td>35</td>\n",
       "      <td>85</td>\n",
       "      <td>60</td>\n",
       "      <td>19.0</td>\n",
       "      <td>98.0</td>\n",
       "      <td>86</td>\n",
       "      <td>high risk</td>\n",
       "    </tr>\n",
       "    <tr>\n",
       "      <th>1012</th>\n",
       "      <td>43</td>\n",
       "      <td>120</td>\n",
       "      <td>90</td>\n",
       "      <td>18.0</td>\n",
       "      <td>98.0</td>\n",
       "      <td>70</td>\n",
       "      <td>high risk</td>\n",
       "    </tr>\n",
       "    <tr>\n",
       "      <th>1013</th>\n",
       "      <td>32</td>\n",
       "      <td>120</td>\n",
       "      <td>65</td>\n",
       "      <td>6.0</td>\n",
       "      <td>101.0</td>\n",
       "      <td>76</td>\n",
       "      <td>mid risk</td>\n",
       "    </tr>\n",
       "  </tbody>\n",
       "</table>\n",
       "<p>1014 rows × 7 columns</p>\n",
       "</div>"
      ],
      "text/plain": [
       "      Age  SystolicBP  DiastolicBP    BS  BodyTemp  HeartRate  RiskLevel\n",
       "0      25         130           80  15.0      98.0         86  high risk\n",
       "1      35         140           90  13.0      98.0         70  high risk\n",
       "2      29          90           70   8.0     100.0         80  high risk\n",
       "3      30         140           85   7.0      98.0         70  high risk\n",
       "4      35         120           60   6.1      98.0         76   low risk\n",
       "...   ...         ...          ...   ...       ...        ...        ...\n",
       "1009   22         120           60  15.0      98.0         80  high risk\n",
       "1010   55         120           90  18.0      98.0         60  high risk\n",
       "1011   35          85           60  19.0      98.0         86  high risk\n",
       "1012   43         120           90  18.0      98.0         70  high risk\n",
       "1013   32         120           65   6.0     101.0         76   mid risk\n",
       "\n",
       "[1014 rows x 7 columns]"
      ]
     },
     "execution_count": 34,
     "metadata": {},
     "output_type": "execute_result"
    }
   ],
   "source": [
    "df"
   ]
  },
  {
   "cell_type": "code",
   "execution_count": 35,
   "id": "89ebedf8",
   "metadata": {},
   "outputs": [
    {
     "data": {
      "image/png": "[encoded data removed]",
      "text/plain": [
       "<Figure size 1000x800 with 2 Axes>"
      ]
     },
     "metadata": {},
     "output_type": "display_data"
    }
   ],
   "source": [
    "import pandas as pd\n",
    "import seaborn as sns\n",
    "import matplotlib.pyplot as plt\n",
    "# Load your data into a Pandas DataFrame\n",
    "df = pd.read_csv('C:/ML summer internship/ML/Data/mhrd.csv')\n",
    "# Calculate the correlation matrix, considering only numeric columns\n",
    "corr_matrix = df.corr(numeric_only=True)\n",
    "# Create a heatmap of the correlation matrix\n",
    "plt.figure(figsize=(10, 8))\n",
    "sns.heatmap(corr_matrix, annot=True, cmap='coolwarm', fmt=\".2f\", linewidths=.5)\n",
    "plt.title('Correlation Matrix Heatmap')\n",
    "plt.show()\n"
   ]
  },
  {
   "cell_type": "code",
   "execution_count": 36,
   "id": "1f3c39ed",
   "metadata": {},
   "outputs": [
    {
     "data": {
      "image/png": "[encoded data removed]",
      "text/plain": [
       "<Figure size 2000x1500 with 6 Axes>"
      ]
     },
     "metadata": {},
     "output_type": "display_data"
    }
   ],
   "source": [
    "import matplotlib.pyplot as plt\n",
    "df.hist(bins=50, figsize=(20, 15))\n",
    "plt.show()"
   ]
  },
  {
   "cell_type": "code",
   "execution_count": 37,
   "id": "7f1778f6",
   "metadata": {},
   "outputs": [
    {
     "data": {
      "text/plain": [
       "<Axes: xlabel='RiskLevel', ylabel='count'>"
      ]
     },
     "execution_count": 37,
     "metadata": {},
     "output_type": "execute_result"
    },
    {
     "data": {
      "image/png": "[encoded data removed]",
      "text/plain": [
       "<Figure size 640x480 with 1 Axes>"
      ]
     },
     "metadata": {},
     "output_type": "display_data"
    }
   ],
   "source": [
    "df['RiskLevel'].value_counts()\n",
    "df['RiskLevel'].value_counts() * 100 / len(df)\n",
    "sns.countplot(x='RiskLevel', data=df, palette='viridis')"
   ]
  },
  {
   "cell_type": "code",
   "execution_count": 38,
   "id": "35fac609",
   "metadata": {},
   "outputs": [
    {
     "data": {
      "text/html": [
       "<div>\n",
       "<style scoped>\n",
       "    .dataframe tbody tr th:only-of-type {\n",
       "        vertical-align: middle;\n",
       "    }\n",
       "\n",
       "    .dataframe tbody tr th {\n",
       "        vertical-align: top;\n",
       "    }\n",
       "\n",
       "    .dataframe thead th {\n",
       "        text-align: right;\n",
       "    }\n",
       "</style>\n",
       "<table border=\"1\" class=\"dataframe\">\n",
       "  <thead>\n",
       "    <tr style=\"text-align: right;\">\n",
       "      <th></th>\n",
       "      <th>Age</th>\n",
       "      <th>SystolicBP</th>\n",
       "      <th>DiastolicBP</th>\n",
       "      <th>BS</th>\n",
       "      <th>BodyTemp</th>\n",
       "      <th>HeartRate</th>\n",
       "    </tr>\n",
       "  </thead>\n",
       "  <tbody>\n",
       "    <tr>\n",
       "      <th>0</th>\n",
       "      <td>25</td>\n",
       "      <td>130</td>\n",
       "      <td>80</td>\n",
       "      <td>15.0</td>\n",
       "      <td>98.0</td>\n",
       "      <td>86</td>\n",
       "    </tr>\n",
       "    <tr>\n",
       "      <th>1</th>\n",
       "      <td>35</td>\n",
       "      <td>140</td>\n",
       "      <td>90</td>\n",
       "      <td>13.0</td>\n",
       "      <td>98.0</td>\n",
       "      <td>70</td>\n",
       "    </tr>\n",
       "    <tr>\n",
       "      <th>2</th>\n",
       "      <td>29</td>\n",
       "      <td>90</td>\n",
       "      <td>70</td>\n",
       "      <td>8.0</td>\n",
       "      <td>100.0</td>\n",
       "      <td>80</td>\n",
       "    </tr>\n",
       "    <tr>\n",
       "      <th>3</th>\n",
       "      <td>30</td>\n",
       "      <td>140</td>\n",
       "      <td>85</td>\n",
       "      <td>7.0</td>\n",
       "      <td>98.0</td>\n",
       "      <td>70</td>\n",
       "    </tr>\n",
       "    <tr>\n",
       "      <th>4</th>\n",
       "      <td>35</td>\n",
       "      <td>120</td>\n",
       "      <td>60</td>\n",
       "      <td>6.1</td>\n",
       "      <td>98.0</td>\n",
       "      <td>76</td>\n",
       "    </tr>\n",
       "    <tr>\n",
       "      <th>...</th>\n",
       "      <td>...</td>\n",
       "      <td>...</td>\n",
       "      <td>...</td>\n",
       "      <td>...</td>\n",
       "      <td>...</td>\n",
       "      <td>...</td>\n",
       "    </tr>\n",
       "    <tr>\n",
       "      <th>1009</th>\n",
       "      <td>22</td>\n",
       "      <td>120</td>\n",
       "      <td>60</td>\n",
       "      <td>15.0</td>\n",
       "      <td>98.0</td>\n",
       "      <td>80</td>\n",
       "    </tr>\n",
       "    <tr>\n",
       "      <th>1010</th>\n",
       "      <td>55</td>\n",
       "      <td>120</td>\n",
       "      <td>90</td>\n",
       "      <td>18.0</td>\n",
       "      <td>98.0</td>\n",
       "      <td>60</td>\n",
       "    </tr>\n",
       "    <tr>\n",
       "      <th>1011</th>\n",
       "      <td>35</td>\n",
       "      <td>85</td>\n",
       "      <td>60</td>\n",
       "      <td>19.0</td>\n",
       "      <td>98.0</td>\n",
       "      <td>86</td>\n",
       "    </tr>\n",
       "    <tr>\n",
       "      <th>1012</th>\n",
       "      <td>43</td>\n",
       "      <td>120</td>\n",
       "      <td>90</td>\n",
       "      <td>18.0</td>\n",
       "      <td>98.0</td>\n",
       "      <td>70</td>\n",
       "    </tr>\n",
       "    <tr>\n",
       "      <th>1013</th>\n",
       "      <td>32</td>\n",
       "      <td>120</td>\n",
       "      <td>65</td>\n",
       "      <td>6.0</td>\n",
       "      <td>101.0</td>\n",
       "      <td>76</td>\n",
       "    </tr>\n",
       "  </tbody>\n",
       "</table>\n",
       "<p>1014 rows × 6 columns</p>\n",
       "</div>"
      ],
      "text/plain": [
       "      Age  SystolicBP  DiastolicBP    BS  BodyTemp  HeartRate\n",
       "0      25         130           80  15.0      98.0         86\n",
       "1      35         140           90  13.0      98.0         70\n",
       "2      29          90           70   8.0     100.0         80\n",
       "3      30         140           85   7.0      98.0         70\n",
       "4      35         120           60   6.1      98.0         76\n",
       "...   ...         ...          ...   ...       ...        ...\n",
       "1009   22         120           60  15.0      98.0         80\n",
       "1010   55         120           90  18.0      98.0         60\n",
       "1011   35          85           60  19.0      98.0         86\n",
       "1012   43         120           90  18.0      98.0         70\n",
       "1013   32         120           65   6.0     101.0         76\n",
       "\n",
       "[1014 rows x 6 columns]"
      ]
     },
     "execution_count": 38,
     "metadata": {},
     "output_type": "execute_result"
    }
   ],
   "source": [
    "X = df.drop('RiskLevel',axis=1)\n",
    "y = df['RiskLevel']\n",
    "X"
   ]
  },
  {
   "cell_type": "code",
   "execution_count": 39,
   "id": "1bf79dd3",
   "metadata": {},
   "outputs": [
    {
     "data": {
      "text/plain": [
       "0       high risk\n",
       "1       high risk\n",
       "2       high risk\n",
       "3       high risk\n",
       "4        low risk\n",
       "          ...    \n",
       "1009    high risk\n",
       "1010    high risk\n",
       "1011    high risk\n",
       "1012    high risk\n",
       "1013     mid risk\n",
       "Name: RiskLevel, Length: 1014, dtype: object"
      ]
     },
     "execution_count": 39,
     "metadata": {},
     "output_type": "execute_result"
    }
   ],
   "source": [
    "y"
   ]
  },
  {
   "cell_type": "code",
   "execution_count": 40,
   "id": "f6e82540",
   "metadata": {},
   "outputs": [
    {
     "data": {
      "text/plain": [
       "752      mid risk\n",
       "519     high risk\n",
       "210     high risk\n",
       "611      low risk\n",
       "914      low risk\n",
       "          ...    \n",
       "1003    high risk\n",
       "227     high risk\n",
       "868      mid risk\n",
       "584     high risk\n",
       "808      mid risk\n",
       "Name: RiskLevel, Length: 305, dtype: object"
      ]
     },
     "execution_count": 40,
     "metadata": {},
     "output_type": "execute_result"
    }
   ],
   "source": [
    "X_train,X_test,y_train,y_test=train_test_split(X,y,test_size=0.3,\n",
    "random_state=42)\n",
    "y_test"
   ]
  },
  {
   "cell_type": "code",
   "execution_count": 41,
   "id": "d172305b",
   "metadata": {},
   "outputs": [
    {
     "name": "stdout",
     "output_type": "stream",
     "text": [
      "Training Shape x: (709, 6)\n",
      "Testing Shape x: (305, 6)\n",
      "*****___________*****___________*****\n",
      "Training Shape y: (1014, 6)\n",
      "Testing Shape y: (1014,)\n"
     ]
    }
   ],
   "source": [
    "print(f'Training Shape x:',X_train.shape)\n",
    "print(f'Testing Shape x:',X_test.shape)\n",
    "print('*****___________*****___________*****')\n",
    "print(f'Training Shape y:',X.shape)\n",
    "print(f'Testing Shape y:',y.shape)"
   ]
  },
  {
   "cell_type": "code",
   "execution_count": 42,
   "id": "d5ec097d",
   "metadata": {},
   "outputs": [],
   "source": [
    "ss = StandardScaler()\n",
    "X_train = ss.fit_transform(X_train)\n",
    "X_test= ss.transform(X_test)"
   ]
  },
  {
   "cell_type": "code",
   "execution_count": 43,
   "id": "603257b0",
   "metadata": {},
   "outputs": [
    {
     "name": "stdout",
     "output_type": "stream",
     "text": [
      "Train accuracy: 0.7108603667136812\n",
      "Test accuracy: 0.6885245901639344\n",
      "['mid risk' 'high risk' 'high risk' 'low risk' 'mid risk' 'mid risk'\n",
      " 'low risk' 'mid risk' 'mid risk' 'high risk' 'high risk' 'low risk'\n",
      " 'low risk' 'high risk' 'mid risk' 'low risk' 'high risk' 'low risk'\n",
      " 'low risk' 'mid risk' 'low risk' 'mid risk' 'low risk' 'high risk'\n",
      " 'low risk' 'mid risk' 'high risk' 'low risk' 'low risk' 'low risk'\n",
      " 'high risk' 'high risk' 'low risk' 'low risk' 'low risk' 'high risk'\n",
      " 'high risk' 'low risk' 'low risk' 'high risk' 'high risk' 'mid risk'\n",
      " 'high risk' 'high risk' 'low risk' 'mid risk' 'high risk' 'mid risk'\n",
      " 'low risk' 'low risk' 'low risk' 'low risk' 'low risk' 'low risk'\n",
      " 'low risk' 'mid risk' 'high risk' 'low risk' 'low risk' 'low risk'\n",
      " 'low risk' 'low risk' 'low risk' 'low risk' 'low risk' 'high risk'\n",
      " 'high risk' 'low risk' 'low risk' 'high risk' 'high risk' 'high risk'\n",
      " 'high risk' 'mid risk' 'mid risk' 'high risk' 'low risk' 'high risk'\n",
      " 'high risk' 'low risk' 'low risk' 'low risk' 'low risk' 'low risk'\n",
      " 'low risk' 'low risk' 'low risk' 'mid risk' 'high risk' 'low risk'\n",
      " 'mid risk' 'mid risk' 'low risk' 'high risk' 'low risk' 'low risk'\n",
      " 'low risk' 'low risk' 'high risk' 'low risk' 'low risk' 'mid risk'\n",
      " 'mid risk' 'low risk' 'low risk' 'low risk' 'low risk' 'mid risk'\n",
      " 'low risk' 'mid risk' 'mid risk' 'mid risk' 'low risk' 'high risk'\n",
      " 'high risk' 'low risk' 'low risk' 'high risk' 'low risk' 'high risk'\n",
      " 'mid risk' 'low risk' 'low risk' 'low risk' 'low risk' 'high risk'\n",
      " 'low risk' 'low risk' 'low risk' 'low risk' 'low risk' 'low risk'\n",
      " 'low risk' 'mid risk' 'low risk' 'low risk' 'high risk' 'low risk'\n",
      " 'low risk' 'mid risk' 'high risk' 'mid risk' 'high risk' 'high risk'\n",
      " 'low risk' 'low risk' 'high risk' 'low risk' 'low risk' 'low risk'\n",
      " 'low risk' 'low risk' 'low risk' 'mid risk' 'high risk' 'mid risk'\n",
      " 'low risk' 'low risk' 'low risk' 'high risk' 'low risk' 'low risk'\n",
      " 'low risk' 'mid risk' 'low risk' 'mid risk' 'high risk' 'low risk'\n",
      " 'low risk' 'mid risk' 'high risk' 'low risk' 'low risk' 'low risk'\n",
      " 'low risk' 'high risk' 'mid risk' 'low risk' 'low risk' 'low risk'\n",
      " 'high risk' 'low risk' 'low risk' 'high risk' 'high risk' 'low risk'\n",
      " 'high risk' 'low risk' 'low risk' 'mid risk' 'mid risk' 'low risk'\n",
      " 'mid risk' 'low risk' 'low risk' 'low risk' 'low risk' 'high risk'\n",
      " 'low risk' 'low risk' 'low risk' 'low risk' 'high risk' 'mid risk'\n",
      " 'mid risk' 'low risk' 'mid risk' 'high risk' 'low risk' 'mid risk'\n",
      " 'high risk' 'low risk' 'low risk' 'low risk' 'low risk' 'high risk'\n",
      " 'low risk' 'high risk' 'low risk' 'low risk' 'high risk' 'high risk'\n",
      " 'mid risk' 'mid risk' 'low risk' 'mid risk' 'low risk' 'low risk'\n",
      " 'high risk' 'low risk' 'low risk' 'low risk' 'mid risk' 'low risk'\n",
      " 'mid risk' 'mid risk' 'low risk' 'low risk' 'mid risk' 'mid risk'\n",
      " 'high risk' 'low risk' 'low risk' 'low risk' 'mid risk' 'high risk'\n",
      " 'low risk' 'low risk' 'low risk' 'low risk' 'high risk' 'high risk'\n",
      " 'mid risk' 'low risk' 'mid risk' 'low risk' 'low risk' 'high risk'\n",
      " 'high risk' 'high risk' 'low risk' 'low risk' 'low risk' 'low risk'\n",
      " 'mid risk' 'high risk' 'low risk' 'low risk' 'high risk' 'low risk'\n",
      " 'mid risk' 'high risk' 'low risk' 'low risk' 'high risk' 'mid risk'\n",
      " 'low risk' 'low risk' 'high risk' 'mid risk' 'low risk' 'high risk'\n",
      " 'low risk' 'high risk' 'high risk' 'low risk' 'high risk' 'low risk'\n",
      " 'high risk' 'mid risk' 'mid risk' 'low risk' 'low risk' 'low risk'\n",
      " 'low risk' 'high risk' 'high risk' 'low risk' 'mid risk' 'low risk'\n",
      " 'high risk' 'mid risk' 'mid risk' 'high risk' 'low risk']\n",
      "CM: [[ 63   3  10]\n",
      " [  5 104   8]\n",
      " [ 11  58  43]]\n",
      "Accuracy: 68.85245901639344 %\n",
      "              precision    recall  f1-score   support\n",
      "\n",
      "   high risk       0.80      0.83      0.81        76\n",
      "    low risk       0.63      0.89      0.74       117\n",
      "    mid risk       0.70      0.38      0.50       112\n",
      "\n",
      "    accuracy                           0.69       305\n",
      "   macro avg       0.71      0.70      0.68       305\n",
      "weighted avg       0.70      0.69      0.67       305\n",
      "\n"
     ]
    }
   ],
   "source": [
    "from sklearn.svm import SVC\n",
    "svm = SVC(kernel='rbf', random_state=0, gamma=.10, C=1.0)\n",
    "svm.fit(X_train, y_train)\n",
    "print(\"Train accuracy:\",svm.score(X_train,y_train))\n",
    "print(\"Test accuracy:\",svm.score(X_test,y_test))\n",
    "y_pred = svm.predict(X_test)\n",
    "print(y_pred)\n",
    "\n",
    "cm = confusion_matrix(y_test, y_pred)\n",
    "print(f'CM:',cm)\n",
    "print(f'Accuracy:',accuracy_score(y_test, y_pred)* 100 ,'%')\n",
    "print(classification_report(y_test, svm.predict(X_test)))"
   ]
  },
  {
   "cell_type": "code",
   "execution_count": 45,
   "id": "6e719c4b",
   "metadata": {},
   "outputs": [
    {
     "name": "stdout",
     "output_type": "stream",
     "text": [
      "Train accuracy: 0.9464033850493653\n",
      "Test accuracy: 0.8065573770491803\n",
      "['mid risk' 'high risk' 'high risk' 'low risk' 'low risk' 'mid risk'\n",
      " 'mid risk' 'mid risk' 'mid risk' 'low risk' 'high risk' 'mid risk'\n",
      " 'mid risk' 'high risk' 'mid risk' 'mid risk' 'high risk' 'low risk'\n",
      " 'low risk' 'mid risk' 'mid risk' 'mid risk' 'high risk' 'high risk'\n",
      " 'low risk' 'mid risk' 'high risk' 'mid risk' 'low risk' 'low risk'\n",
      " 'mid risk' 'high risk' 'low risk' 'mid risk' 'high risk' 'high risk'\n",
      " 'high risk' 'mid risk' 'low risk' 'high risk' 'high risk' 'low risk'\n",
      " 'high risk' 'high risk' 'low risk' 'mid risk' 'high risk' 'mid risk'\n",
      " 'low risk' 'low risk' 'mid risk' 'low risk' 'low risk' 'mid risk'\n",
      " 'mid risk' 'mid risk' 'high risk' 'low risk' 'low risk' 'mid risk'\n",
      " 'low risk' 'mid risk' 'mid risk' 'mid risk' 'low risk' 'high risk'\n",
      " 'mid risk' 'high risk' 'mid risk' 'high risk' 'high risk' 'high risk'\n",
      " 'mid risk' 'mid risk' 'mid risk' 'high risk' 'low risk' 'mid risk'\n",
      " 'high risk' 'low risk' 'low risk' 'mid risk' 'low risk' 'low risk'\n",
      " 'mid risk' 'low risk' 'low risk' 'mid risk' 'high risk' 'mid risk'\n",
      " 'mid risk' 'high risk' 'low risk' 'high risk' 'mid risk' 'low risk'\n",
      " 'mid risk' 'low risk' 'high risk' 'mid risk' 'low risk' 'high risk'\n",
      " 'low risk' 'low risk' 'mid risk' 'mid risk' 'low risk' 'mid risk'\n",
      " 'low risk' 'mid risk' 'mid risk' 'mid risk' 'low risk' 'high risk'\n",
      " 'mid risk' 'low risk' 'low risk' 'high risk' 'low risk' 'high risk'\n",
      " 'mid risk' 'low risk' 'low risk' 'mid risk' 'high risk' 'high risk'\n",
      " 'mid risk' 'mid risk' 'mid risk' 'mid risk' 'low risk' 'low risk'\n",
      " 'mid risk' 'mid risk' 'low risk' 'low risk' 'high risk' 'mid risk'\n",
      " 'low risk' 'mid risk' 'high risk' 'mid risk' 'high risk' 'high risk'\n",
      " 'low risk' 'low risk' 'high risk' 'low risk' 'low risk' 'mid risk'\n",
      " 'low risk' 'mid risk' 'low risk' 'mid risk' 'high risk' 'mid risk'\n",
      " 'low risk' 'mid risk' 'low risk' 'high risk' 'low risk' 'low risk'\n",
      " 'low risk' 'mid risk' 'low risk' 'mid risk' 'mid risk' 'low risk'\n",
      " 'low risk' 'low risk' 'high risk' 'low risk' 'mid risk' 'low risk'\n",
      " 'mid risk' 'high risk' 'mid risk' 'low risk' 'low risk' 'low risk'\n",
      " 'high risk' 'mid risk' 'low risk' 'high risk' 'high risk' 'low risk'\n",
      " 'high risk' 'low risk' 'low risk' 'low risk' 'mid risk' 'mid risk'\n",
      " 'mid risk' 'mid risk' 'low risk' 'low risk' 'mid risk' 'high risk'\n",
      " 'low risk' 'mid risk' 'mid risk' 'mid risk' 'high risk' 'high risk'\n",
      " 'mid risk' 'mid risk' 'mid risk' 'high risk' 'mid risk' 'mid risk'\n",
      " 'high risk' 'mid risk' 'low risk' 'low risk' 'mid risk' 'high risk'\n",
      " 'mid risk' 'high risk' 'low risk' 'low risk' 'high risk' 'high risk'\n",
      " 'mid risk' 'mid risk' 'mid risk' 'mid risk' 'mid risk' 'low risk'\n",
      " 'high risk' 'mid risk' 'low risk' 'mid risk' 'mid risk' 'low risk'\n",
      " 'mid risk' 'mid risk' 'low risk' 'low risk' 'mid risk' 'high risk'\n",
      " 'low risk' 'low risk' 'low risk' 'low risk' 'mid risk' 'high risk'\n",
      " 'low risk' 'low risk' 'low risk' 'low risk' 'high risk' 'high risk'\n",
      " 'high risk' 'mid risk' 'high risk' 'low risk' 'low risk' 'high risk'\n",
      " 'high risk' 'high risk' 'mid risk' 'mid risk' 'mid risk' 'mid risk'\n",
      " 'mid risk' 'high risk' 'mid risk' 'mid risk' 'high risk' 'low risk'\n",
      " 'high risk' 'high risk' 'low risk' 'mid risk' 'high risk' 'high risk'\n",
      " 'low risk' 'low risk' 'high risk' 'low risk' 'low risk' 'low risk'\n",
      " 'low risk' 'high risk' 'high risk' 'low risk' 'high risk' 'low risk'\n",
      " 'mid risk' 'mid risk' 'high risk' 'mid risk' 'low risk' 'low risk'\n",
      " 'low risk' 'high risk' 'high risk' 'low risk' 'mid risk' 'low risk'\n",
      " 'high risk' 'high risk' 'mid risk' 'high risk' 'mid risk']\n",
      "CM: [[69  2  5]\n",
      " [ 5 90 22]\n",
      " [ 9 16 87]]\n",
      "Accuracy: 80.65573770491802 %\n",
      "              precision    recall  f1-score   support\n",
      "\n",
      "   high risk       0.83      0.91      0.87        76\n",
      "    low risk       0.83      0.77      0.80       117\n",
      "    mid risk       0.76      0.78      0.77       112\n",
      "\n",
      "    accuracy                           0.81       305\n",
      "   macro avg       0.81      0.82      0.81       305\n",
      "weighted avg       0.81      0.81      0.81       305\n",
      "\n"
     ]
    }
   ],
   "source": [
    "from sklearn.ensemble import RandomForestClassifier\n",
    "#Create Random Forest object\n",
    "random_forest = RandomForestClassifier()\n",
    "#Train model\n",
    "random_forest.fit(X_train, y_train)\n",
    "print(\"Train accuracy:\",random_forest.score(X_train,y_train))\n",
    "print(\"Test accuracy:\",random_forest.score(X_test,y_test))\n",
    "y_pred = random_forest.predict(X_test)\n",
    "print(y_pred)\n",
    "cm = confusion_matrix(y_test, y_pred)\n",
    "print(f'CM:',cm)\n",
    "print(f'Accuracy:',accuracy_score(y_test, y_pred)* 100 ,'%')\n",
    "print(classification_report(y_test, random_forest.predict(X_test)))"
   ]
  },
  {
   "cell_type": "code",
   "execution_count": 46,
   "id": "a8ac4b60",
   "metadata": {},
   "outputs": [
    {
     "name": "stdout",
     "output_type": "stream",
     "text": [
      "Train accuracy: 0.61212976022567\n",
      "Test accuracy: 0.5639344262295082\n",
      "['low risk' 'high risk' 'high risk' 'low risk' 'mid risk' 'mid risk'\n",
      " 'low risk' 'mid risk' 'low risk' 'low risk' 'high risk' 'low risk'\n",
      " 'low risk' 'low risk' 'mid risk' 'low risk' 'low risk' 'low risk'\n",
      " 'low risk' 'low risk' 'low risk' 'mid risk' 'low risk' 'high risk'\n",
      " 'low risk' 'low risk' 'high risk' 'low risk' 'low risk' 'low risk'\n",
      " 'mid risk' 'high risk' 'low risk' 'low risk' 'low risk' 'high risk'\n",
      " 'high risk' 'low risk' 'low risk' 'high risk' 'high risk' 'mid risk'\n",
      " 'high risk' 'low risk' 'low risk' 'mid risk' 'high risk' 'low risk'\n",
      " 'low risk' 'low risk' 'low risk' 'low risk' 'low risk' 'low risk'\n",
      " 'low risk' 'mid risk' 'low risk' 'low risk' 'low risk' 'low risk'\n",
      " 'low risk' 'low risk' 'low risk' 'low risk' 'low risk' 'high risk'\n",
      " 'high risk' 'low risk' 'low risk' 'mid risk' 'low risk' 'high risk'\n",
      " 'high risk' 'low risk' 'low risk' 'high risk' 'low risk' 'high risk'\n",
      " 'high risk' 'low risk' 'low risk' 'low risk' 'low risk' 'low risk'\n",
      " 'low risk' 'low risk' 'low risk' 'mid risk' 'high risk' 'low risk'\n",
      " 'mid risk' 'mid risk' 'low risk' 'low risk' 'low risk' 'low risk'\n",
      " 'mid risk' 'low risk' 'high risk' 'low risk' 'low risk' 'mid risk'\n",
      " 'low risk' 'low risk' 'low risk' 'low risk' 'low risk' 'mid risk'\n",
      " 'low risk' 'low risk' 'mid risk' 'low risk' 'low risk' 'high risk'\n",
      " 'high risk' 'mid risk' 'low risk' 'high risk' 'low risk' 'high risk'\n",
      " 'mid risk' 'low risk' 'low risk' 'low risk' 'low risk' 'high risk'\n",
      " 'low risk' 'low risk' 'low risk' 'low risk' 'low risk' 'low risk'\n",
      " 'low risk' 'low risk' 'low risk' 'low risk' 'high risk' 'low risk'\n",
      " 'low risk' 'low risk' 'high risk' 'mid risk' 'low risk' 'high risk'\n",
      " 'low risk' 'low risk' 'high risk' 'low risk' 'low risk' 'low risk'\n",
      " 'low risk' 'low risk' 'low risk' 'low risk' 'mid risk' 'low risk'\n",
      " 'low risk' 'low risk' 'low risk' 'high risk' 'low risk' 'low risk'\n",
      " 'low risk' 'low risk' 'low risk' 'low risk' 'high risk' 'low risk'\n",
      " 'low risk' 'low risk' 'high risk' 'low risk' 'low risk' 'low risk'\n",
      " 'low risk' 'high risk' 'mid risk' 'low risk' 'low risk' 'low risk'\n",
      " 'mid risk' 'low risk' 'low risk' 'high risk' 'high risk' 'low risk'\n",
      " 'high risk' 'low risk' 'low risk' 'low risk' 'low risk' 'low risk'\n",
      " 'mid risk' 'low risk' 'low risk' 'low risk' 'low risk' 'high risk'\n",
      " 'low risk' 'low risk' 'low risk' 'low risk' 'low risk' 'mid risk'\n",
      " 'low risk' 'low risk' 'low risk' 'high risk' 'low risk' 'low risk'\n",
      " 'high risk' 'low risk' 'low risk' 'low risk' 'low risk' 'mid risk'\n",
      " 'low risk' 'low risk' 'low risk' 'low risk' 'high risk' 'high risk'\n",
      " 'low risk' 'low risk' 'low risk' 'low risk' 'low risk' 'low risk'\n",
      " 'high risk' 'low risk' 'low risk' 'low risk' 'mid risk' 'low risk'\n",
      " 'high risk' 'low risk' 'low risk' 'low risk' 'mid risk' 'low risk'\n",
      " 'low risk' 'low risk' 'low risk' 'low risk' 'mid risk' 'high risk'\n",
      " 'low risk' 'low risk' 'low risk' 'low risk' 'low risk' 'high risk'\n",
      " 'low risk' 'low risk' 'low risk' 'low risk' 'low risk' 'high risk'\n",
      " 'high risk' 'high risk' 'low risk' 'low risk' 'low risk' 'low risk'\n",
      " 'low risk' 'high risk' 'low risk' 'low risk' 'mid risk' 'low risk'\n",
      " 'low risk' 'mid risk' 'low risk' 'low risk' 'high risk' 'low risk'\n",
      " 'low risk' 'low risk' 'high risk' 'low risk' 'low risk' 'low risk'\n",
      " 'low risk' 'high risk' 'mid risk' 'low risk' 'high risk' 'low risk'\n",
      " 'high risk' 'low risk' 'mid risk' 'low risk' 'low risk' 'low risk'\n",
      " 'low risk' 'high risk' 'high risk' 'low risk' 'low risk' 'low risk'\n",
      " 'high risk' 'low risk' 'low risk' 'high risk' 'low risk']\n",
      "CM: [[ 46  19  11]\n",
      " [  3 109   5]\n",
      " [ 10  85  17]]\n",
      "Accuracy: 56.393442622950815 %\n",
      "              precision    recall  f1-score   support\n",
      "\n",
      "   high risk       0.78      0.61      0.68        76\n",
      "    low risk       0.51      0.93      0.66       117\n",
      "    mid risk       0.52      0.15      0.23       112\n",
      "\n",
      "    accuracy                           0.56       305\n",
      "   macro avg       0.60      0.56      0.53       305\n",
      "weighted avg       0.58      0.56      0.51       305\n",
      "\n"
     ]
    }
   ],
   "source": [
    "#Applying GaussianNB\n",
    "from sklearn.naive_bayes import GaussianNB\n",
    "nb = GaussianNB()\n",
    "nb.fit(X_train , y_train)\n",
    "print(\"Train accuracy:\",nb.score(X_train,y_train))\n",
    "print(\"Test accuracy:\",nb.score(X_test,y_test))\n",
    "y_pred = nb.predict(X_test)\n",
    "print(y_pred)\n",
    "cm = confusion_matrix(y_test, y_pred)\n",
    "print(f'CM:',cm)\n",
    "print(f'Accuracy:',accuracy_score(y_test, y_pred)* 100 ,'%')\n",
    "print(classification_report(y_test, nb.predict(X_test)))"
   ]
  },
  {
   "cell_type": "markdown",
   "id": "9e82ed5a",
   "metadata": {},
   "source": [
    "#### Name-Aman Mishra\n",
    "#### Sic-22BCSJ46"
   ]
  },
  {
   "cell_type": "code",
   "execution_count": null,
   "id": "b15016c5",
   "metadata": {},
   "outputs": [],
   "source": []
  }
 ],
 "metadata": {
  "kernelspec": {
   "display_name": "Python 3 (ipykernel)",
   "language": "python",
   "name": "python3"
  },
  "language_info": {
   "codemirror_mode": {
    "name": "ipython",
    "version": 3
   },
   "file_extension": ".py",
   "mimetype": "text/x-python",
   "name": "python",
   "nbconvert_exporter": "python",
   "pygments_lexer": "ipython3",
   "version": "3.11.4"
  }
 },
 "nbformat": 4,
 "nbformat_minor": 5
}
